{
 "cells": [
  {
   "cell_type": "code",
   "execution_count": 1,
   "metadata": {},
   "outputs": [],
   "source": [
    "import numpy as np\n",
    "from tokenizers import ByteLevelBPETokenizer\n",
    "import onnxruntime as ort"
   ]
  },
  {
   "cell_type": "code",
   "execution_count": 2,
   "metadata": {},
   "outputs": [],
   "source": [
    "# Load the ByteLevelBPETokenizer\n",
    "tokenizer = ByteLevelBPETokenizer.from_file(\n",
    "    vocab_filename='./tokenizer/vocab.json',\n",
    "    merges_filename='./tokenizer/merges.txt'\n",
    ")"
   ]
  },
  {
   "cell_type": "code",
   "execution_count": 3,
   "metadata": {},
   "outputs": [],
   "source": [
    "# Load the ONNX model\n",
    "onnx_model_path = \"./QAT/QAT_int_8.onnx\"  # Path to your INT8-quantized ONNX model\n",
    "session = ort.InferenceSession(onnx_model_path)"
   ]
  },
  {
   "cell_type": "code",
   "execution_count": 4,
   "metadata": {},
   "outputs": [],
   "source": [
    "# Function to preprocess and predict sentiment for a custom review\n",
    "def predict_sentiment(review):\n",
    "    # Tokenize the review\n",
    "    review_sequence = tokenizer.encode(review).ids\n",
    "    \n",
    "    # Pad the sequence\n",
    "    max_length = 170  # Maximum sequence length (same as original)\n",
    "    pad_token_id = tokenizer.token_to_id(\"<pad>\")\n",
    "    review_padded = np.pad(\n",
    "        review_sequence[:max_length], \n",
    "        (0, max_length - len(review_sequence[:max_length])), \n",
    "        mode='constant', \n",
    "        constant_values=pad_token_id\n",
    "    ).astype(np.float32)  # ONNX expects float32 input\n",
    "    \n",
    "    # Reshape for ONNX (batch_size, sequence_length)\n",
    "    review_padded = review_padded.reshape(1, -1)  # Shape: (1, 170)\n",
    "\n",
    "    # Get input name for ONNX model\n",
    "    input_name = session.get_inputs()[0].name\n",
    "    \n",
    "    # Predict sentiment\n",
    "    prediction = session.run(None, {input_name: review_padded})[0]  # Output shape: (1, 1)\n",
    "    \n",
    "    # Determine sentiment based on prediction\n",
    "    sentiment = \"Positive\" if prediction[0][0] > 0.44 else \"Negative\"\n",
    "    \n",
    "    return sentiment, prediction"
   ]
  },
  {
   "cell_type": "code",
   "execution_count": 5,
   "metadata": {},
   "outputs": [
    {
     "name": "stdout",
     "output_type": "stream",
     "text": [
      "Custom Review Sentiment: Negative, Prediction Score: 0.2979\n"
     ]
    }
   ],
   "source": [
    "# Test with a custom review\n",
    "custom_review = \"I didn't like it. Others seem to love it though\"\n",
    "sentiment, prediction = predict_sentiment(custom_review)\n",
    "print(f\"Custom Review Sentiment: {sentiment}, Prediction Score: {prediction[0][0]:.4f}\")"
   ]
  }
 ],
 "metadata": {
  "kernelspec": {
   "display_name": "Bigru_Sentiment_Analysis",
   "language": "python",
   "name": "python3"
  },
  "language_info": {
   "codemirror_mode": {
    "name": "ipython",
    "version": 3
   },
   "file_extension": ".py",
   "mimetype": "text/x-python",
   "name": "python",
   "nbconvert_exporter": "python",
   "pygments_lexer": "ipython3",
   "version": "3.12.8"
  }
 },
 "nbformat": 4,
 "nbformat_minor": 2
}
